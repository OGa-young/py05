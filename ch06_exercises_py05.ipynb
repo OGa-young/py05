{
  "nbformat": 4,
  "nbformat_minor": 0,
  "metadata": {
    "colab": {
      "name": "ch06_exercises_py05.ipynb",
      "provenance": [],
      "collapsed_sections": [],
      "toc_visible": true,
      "include_colab_link": true
    },
    "kernelspec": {
      "name": "python3",
      "display_name": "Python 3"
    }
  },
  "cells": [
    {
      "cell_type": "markdown",
      "metadata": {
        "id": "view-in-github",
        "colab_type": "text"
      },
      "source": [
        "<a href=\"https://colab.research.google.com/github/OGa-young/py05/blob/master/ch06_exercises_py05.ipynb\" target=\"_parent\"><img src=\"https://colab.research.google.com/assets/colab-badge.svg\" alt=\"Open In Colab\"/></a>"
      ]
    },
    {
      "cell_type": "markdown",
      "metadata": {
        "id": "5AgSzc_wyCRH",
        "colab_type": "text"
      },
      "source": [
        "## 6장. 파이썬 프로그래밍 연습과 도전"
      ]
    },
    {
      "cell_type": "markdown",
      "metadata": {
        "id": "UhMenc5sjvUW",
        "colab_type": "text"
      },
      "source": [
        "### **06-1 내가 프로그램을 만들 수 있을까?**\n",
        "\n",
        "*  구구단을 출력하는 프로그램을 만들어 보자.\n",
        "\n"
      ]
    },
    {
      "cell_type": "code",
      "metadata": {
        "id": "e2Rs4vtYjs4a",
        "colab_type": "code",
        "outputId": "913dc222-3797-4fee-b7a6-a7172b5b9850",
        "colab": {
          "base_uri": "https://localhost:8080/",
          "height": 53
        }
      },
      "source": [
        "# [Q1] Code-1\n",
        "\n",
        "n = int(input(\"몇 단을 출력? :\"))\n",
        "\n",
        "def GuGu0(n):\n",
        "    result = []\n",
        "    result.append(n * 1)\n",
        "    result.append(n * 2)\n",
        "    result.append(n * 3)\n",
        "    result.append(n * 4)\n",
        "    result.append(n * 5)\n",
        "    result.append(n * 6)\n",
        "    result.append(n * 7)\n",
        "    result.append(n * 8)\n",
        "    result.append(n * 9)\n",
        "    return result\n",
        "\n",
        "print(GuGu0(n))"
      ],
      "execution_count": 0,
      "outputs": [
        {
          "output_type": "stream",
          "text": [
            "몇 단을 출력? :5\n",
            "[5, 10, 15, 20, 25, 30, 35, 40, 45]\n"
          ],
          "name": "stdout"
        }
      ]
    },
    {
      "cell_type": "code",
      "metadata": {
        "id": "3AMTSzsMkDPU",
        "colab_type": "code",
        "outputId": "1ff0d950-635a-4608-ff31-2fbaa4d3abd7",
        "colab": {
          "base_uri": "https://localhost:8080/",
          "height": 53
        }
      },
      "source": [
        "# [Q1] Code-2\n",
        "\n",
        "n = int(input(\"몇 단을 출력? :\"))\n",
        "\n",
        "def GuGu(n):\n",
        "    result = []\n",
        "    i = 1\n",
        "    while i < 10:\n",
        "        result.append(n * i)\n",
        "        i = i + 1\n",
        "    return result\n",
        "\n",
        "print(GuGu0(n))"
      ],
      "execution_count": 0,
      "outputs": [
        {
          "output_type": "stream",
          "text": [
            "몇 단을 출력? :7\n",
            "[7, 14, 21, 28, 35, 42, 49, 56, 63]\n"
          ],
          "name": "stdout"
        }
      ]
    },
    {
      "cell_type": "code",
      "metadata": {
        "id": "EiXUZpRQkZiT",
        "colab_type": "code",
        "outputId": "1c68c410-f3be-41b1-def2-ee57cc336533",
        "colab": {
          "base_uri": "https://localhost:8080/",
          "height": 197
        }
      },
      "source": [
        "  # [Q1] Code-3\n",
        "\n",
        "while True:\n",
        " num1 = int(input(\"몇 단을 출력? : \"))\n",
        " for i in range(1,10):\n",
        "  print(num1, \"X\", i, \"=\", num1*i)\n",
        " break"
      ],
      "execution_count": 0,
      "outputs": [
        {
          "output_type": "stream",
          "text": [
            "몇 단을 출력? : 3\n",
            "3 X 1 = 3\n",
            "3 X 2 = 6\n",
            "3 X 3 = 9\n",
            "3 X 4 = 12\n",
            "3 X 5 = 15\n",
            "3 X 6 = 18\n",
            "3 X 7 = 21\n",
            "3 X 8 = 24\n",
            "3 X 9 = 27\n"
          ],
          "name": "stdout"
        }
      ]
    },
    {
      "cell_type": "code",
      "metadata": {
        "id": "iTp4qXrwlFWb",
        "colab_type": "code",
        "outputId": "5c3822af-9e9b-4275-e8b2-07680738a3f8",
        "colab": {
          "base_uri": "https://localhost:8080/",
          "height": 1000
        }
      },
      "source": [
        " # [Q1] Code-4\n",
        "\n",
        "print(\"구구단을 출력합니다.\\n\")\n",
        "for x in range(2, 10):\n",
        "    print(\"------- [\" + str(x) + \"단] -------\")\n",
        "    for y in range(1, 10):\n",
        "        print(x, \"X\", y, \"=\", x*y)\n",
        "print(\"---------------------\")"
      ],
      "execution_count": 0,
      "outputs": [
        {
          "output_type": "stream",
          "text": [
            "구구단을 출력합니다.\n",
            "\n",
            "------- [2단] -------\n",
            "2 X 1 = 2\n",
            "2 X 2 = 4\n",
            "2 X 3 = 6\n",
            "2 X 4 = 8\n",
            "2 X 5 = 10\n",
            "2 X 6 = 12\n",
            "2 X 7 = 14\n",
            "2 X 8 = 16\n",
            "2 X 9 = 18\n",
            "------- [3단] -------\n",
            "3 X 1 = 3\n",
            "3 X 2 = 6\n",
            "3 X 3 = 9\n",
            "3 X 4 = 12\n",
            "3 X 5 = 15\n",
            "3 X 6 = 18\n",
            "3 X 7 = 21\n",
            "3 X 8 = 24\n",
            "3 X 9 = 27\n",
            "------- [4단] -------\n",
            "4 X 1 = 4\n",
            "4 X 2 = 8\n",
            "4 X 3 = 12\n",
            "4 X 4 = 16\n",
            "4 X 5 = 20\n",
            "4 X 6 = 24\n",
            "4 X 7 = 28\n",
            "4 X 8 = 32\n",
            "4 X 9 = 36\n",
            "------- [5단] -------\n",
            "5 X 1 = 5\n",
            "5 X 2 = 10\n",
            "5 X 3 = 15\n",
            "5 X 4 = 20\n",
            "5 X 5 = 25\n",
            "5 X 6 = 30\n",
            "5 X 7 = 35\n",
            "5 X 8 = 40\n",
            "5 X 9 = 45\n",
            "------- [6단] -------\n",
            "6 X 1 = 6\n",
            "6 X 2 = 12\n",
            "6 X 3 = 18\n",
            "6 X 4 = 24\n",
            "6 X 5 = 30\n",
            "6 X 6 = 36\n",
            "6 X 7 = 42\n",
            "6 X 8 = 48\n",
            "6 X 9 = 54\n",
            "------- [7단] -------\n",
            "7 X 1 = 7\n",
            "7 X 2 = 14\n",
            "7 X 3 = 21\n",
            "7 X 4 = 28\n",
            "7 X 5 = 35\n",
            "7 X 6 = 42\n",
            "7 X 7 = 49\n",
            "7 X 8 = 56\n",
            "7 X 9 = 63\n",
            "------- [8단] -------\n",
            "8 X 1 = 8\n",
            "8 X 2 = 16\n",
            "8 X 3 = 24\n",
            "8 X 4 = 32\n",
            "8 X 5 = 40\n",
            "8 X 6 = 48\n",
            "8 X 7 = 56\n",
            "8 X 8 = 64\n",
            "8 X 9 = 72\n",
            "------- [9단] -------\n",
            "9 X 1 = 9\n",
            "9 X 2 = 18\n",
            "9 X 3 = 27\n",
            "9 X 4 = 36\n",
            "9 X 5 = 45\n",
            "9 X 6 = 54\n",
            "9 X 7 = 63\n",
            "9 X 8 = 72\n",
            "9 X 9 = 81\n",
            "---------------------\n"
          ],
          "name": "stdout"
        }
      ]
    },
    {
      "cell_type": "markdown",
      "metadata": {
        "id": "sdpmKwhmof1P",
        "colab_type": "text"
      },
      "source": [
        "### **06-2 3과 5의 배수 합하기**\n",
        "\n",
        "* 1000 미만의 자연수에서 3의 배수와 5의배수의 총합을 구하라."
      ]
    },
    {
      "cell_type": "code",
      "metadata": {
        "id": "iSVPI9nwnsDk",
        "colab_type": "code",
        "outputId": "d2420ce6-3afb-464d-b407-5b3aaf0f63f3",
        "colab": {
          "base_uri": "https://localhost:8080/",
          "height": 35
        }
      },
      "source": [
        "# [Q2] Code - 옳은 답\n",
        "\n",
        "result = 0\n",
        "for n in range(1, 1000):\n",
        "    if n % 3 == 0 or n % 5 == 0:\n",
        "        result += n\n",
        "\n",
        "print(result)"
      ],
      "execution_count": 0,
      "outputs": [
        {
          "output_type": "stream",
          "text": [
            "233168\n"
          ],
          "name": "stdout"
        }
      ]
    },
    {
      "cell_type": "code",
      "metadata": {
        "id": "btOxHmtIpXC-",
        "colab_type": "code",
        "outputId": "dc8a55f7-e36c-45e3-85ad-349265bfb2a0",
        "colab": {
          "base_uri": "https://localhost:8080/",
          "height": 35
        }
      },
      "source": [
        "# [Q2] Code - 틀린 답\n",
        "\n",
        "result_w = 0\n",
        "for n in range(1, 1000):\n",
        "    if n % 3 == 0:\n",
        "        result_w += n\n",
        "    if n % 5 == 0:\n",
        "        result_w += n\n",
        "\n",
        "print(result_w) "
      ],
      "execution_count": 0,
      "outputs": [
        {
          "output_type": "stream",
          "text": [
            "266333\n"
          ],
          "name": "stdout"
        }
      ]
    },
    {
      "cell_type": "code",
      "metadata": {
        "id": "Fn7WE3_Zp41l",
        "colab_type": "code",
        "outputId": "1b049e19-4d2c-4a2e-fbc2-735e998ae95f",
        "colab": {
          "base_uri": "https://localhost:8080/",
          "height": 53
        }
      },
      "source": [
        "# [Q2] Code - 검산\n",
        "\n",
        "result_3_5 = 0\n",
        "for n in range(1, 1000):\n",
        "    if n % 3 == 0 and n % 5 == 0:\n",
        "        result_3_5 += n\n",
        "print(result_3_5)\n",
        "\n",
        "(result_w - result_3_5) == result"
      ],
      "execution_count": 0,
      "outputs": [
        {
          "output_type": "stream",
          "text": [
            "33165\n"
          ],
          "name": "stdout"
        },
        {
          "output_type": "execute_result",
          "data": {
            "text/plain": [
              "True"
            ]
          },
          "metadata": {
            "tags": []
          },
          "execution_count": 32
        }
      ]
    },
    {
      "cell_type": "markdown",
      "metadata": {
        "id": "N2G8oDBRsroj",
        "colab_type": "text"
      },
      "source": [
        "### **06-3 게시판 페이징하기**\n",
        "\n",
        ">  A 씨는 게시판 프로그램을 작성하고 있다. 그런데 게시물의 총 건수와 한 페이지에 보여 줄 게시물 수를 입력으로 주었을 때 총 페이지 수를 출력하는 프로그램이 필요하다고 한다. 이 프로그램을 만들어 보자.\n",
        "\n",
        "* 한 페이지에서 보여 줄 게시물 수가 최대 10\n",
        "* 총 페이지 수 = (총 건수 / 한 페이지당 보여 줄 건수) + 1"
      ]
    },
    {
      "cell_type": "code",
      "metadata": {
        "id": "dKsUoJuMrqxM",
        "colab_type": "code",
        "outputId": "32651873-c1b0-44a6-dac2-48735e2be2d0",
        "colab": {
          "base_uri": "https://localhost:8080/",
          "height": 89
        }
      },
      "source": [
        "# [Q3] Code-1\n",
        "\n",
        "def getTotalPage(m, n):\n",
        "    return m // n + 1\n",
        "\n",
        "print(getTotalPage(5, 10))    # 1 출력\n",
        "print(getTotalPage(15, 10))   # 2 출력\n",
        "print(getTotalPage(25, 10))   # 3 출력\n",
        "print(getTotalPage(30, 10))   # 4 출력 -> 실패"
      ],
      "execution_count": 0,
      "outputs": [
        {
          "output_type": "stream",
          "text": [
            "1\n",
            "2\n",
            "3\n",
            "4\n"
          ],
          "name": "stdout"
        }
      ]
    },
    {
      "cell_type": "code",
      "metadata": {
        "id": "C-ojpw6RsxZD",
        "colab_type": "code",
        "outputId": "09b0b76a-9156-4c31-e4b8-399beb6d3b27",
        "colab": {
          "base_uri": "https://localhost:8080/",
          "height": 89
        }
      },
      "source": [
        "# [Q3] Code-2\n",
        "\n",
        "def getTotalPage(m, n):\n",
        "    if m % n == 0:\n",
        "        return m // n\n",
        "    else:\n",
        "        return m // n + 1\n",
        "\n",
        "print(getTotalPage(5, 10))\n",
        "print(getTotalPage(15, 10))\n",
        "print(getTotalPage(25, 10))\n",
        "print(getTotalPage(30, 10))"
      ],
      "execution_count": 0,
      "outputs": [
        {
          "output_type": "stream",
          "text": [
            "1\n",
            "2\n",
            "3\n",
            "3\n"
          ],
          "name": "stdout"
        }
      ]
    },
    {
      "cell_type": "markdown",
      "metadata": {
        "id": "14p4pk5Jydt3",
        "colab_type": "text"
      },
      "source": [
        "### **06-4 간단한 메모장 만들기**\n",
        "\n",
        ">원하는 메모를 파일에 저장하고 추가 및 조회가 가능한 간단한 메모장을 만들어 보자.\n",
        "* 필요한 기능은? 메모 추가하기, 메모 조회하기\n",
        "* 입력 받는 값은? 메모 내용, 프로그램 실행 옵션\n",
        "* 출력하는 값은? memo.txt"
      ]
    },
    {
      "cell_type": "code",
      "metadata": {
        "id": "RvH_P-M5AekI",
        "colab_type": "code",
        "outputId": "e7a75e0d-a987-468b-e7c3-085cbf00adb1",
        "colab": {
          "base_uri": "https://localhost:8080/",
          "height": 35
        }
      },
      "source": [
        "ls"
      ],
      "execution_count": 0,
      "outputs": [
        {
          "output_type": "stream",
          "text": [
            "\u001b[0m\u001b[01;34mdoit\u001b[0m/\n"
          ],
          "name": "stdout"
        }
      ]
    },
    {
      "cell_type": "code",
      "metadata": {
        "id": "09-RAjrwAeqb",
        "colab_type": "code",
        "colab": {}
      },
      "source": [
        "mkdir 'doit'"
      ],
      "execution_count": 0,
      "outputs": []
    },
    {
      "cell_type": "code",
      "metadata": {
        "id": "U5qjRFyLAexW",
        "colab_type": "code",
        "colab": {}
      },
      "source": [
        "mv memo.py ./doit/"
      ],
      "execution_count": 0,
      "outputs": []
    },
    {
      "cell_type": "code",
      "metadata": {
        "id": "12JcWZFUAe3m",
        "colab_type": "code",
        "outputId": "53152810-5932-4426-f1ff-f7bdc00ca77b",
        "colab": {
          "base_uri": "https://localhost:8080/",
          "height": 35
        }
      },
      "source": [
        "cd doit"
      ],
      "execution_count": 0,
      "outputs": [
        {
          "output_type": "stream",
          "text": [
            "/doit/doit\n"
          ],
          "name": "stdout"
        }
      ]
    },
    {
      "cell_type": "code",
      "metadata": {
        "id": "fI-6yEWtAfAA",
        "colab_type": "code",
        "outputId": "52a37fe5-0993-4ea8-afe9-5866deb82975",
        "colab": {
          "base_uri": "https://localhost:8080/",
          "height": 35
        }
      },
      "source": [
        "pwd"
      ],
      "execution_count": 0,
      "outputs": [
        {
          "output_type": "execute_result",
          "data": {
            "text/plain": [
              "'/doit/doit'"
            ]
          },
          "metadata": {
            "tags": []
          },
          "execution_count": 58
        }
      ]
    },
    {
      "cell_type": "code",
      "metadata": {
        "id": "xObpVp8IAruJ",
        "colab_type": "code",
        "colab": {}
      },
      "source": [
        "!python memo.py -a"
      ],
      "execution_count": 0,
      "outputs": []
    },
    {
      "cell_type": "code",
      "metadata": {
        "id": "pscKs1VJAwTO",
        "colab_type": "code",
        "colab": {}
      },
      "source": [
        "!python memo.py -v"
      ],
      "execution_count": 0,
      "outputs": []
    },
    {
      "cell_type": "markdown",
      "metadata": {
        "id": "rjy3GM0U2yY0",
        "colab_type": "text"
      },
      "source": [
        "### **06-5 탭을 4개의 공백으로 바꾸기**\n"
      ]
    },
    {
      "cell_type": "code",
      "metadata": {
        "id": "ThHFv2HB3csQ",
        "colab_type": "code",
        "outputId": "7a06f1c8-ad83-4bc5-a211-d5013db236d6",
        "colab": {
          "base_uri": "https://localhost:8080/",
          "height": 35
        }
      },
      "source": [
        "cd .."
      ],
      "execution_count": 0,
      "outputs": [
        {
          "output_type": "stream",
          "text": [
            "/content\n"
          ],
          "name": "stdout"
        }
      ]
    },
    {
      "cell_type": "code",
      "metadata": {
        "id": "FXkhCSrA3heT",
        "colab_type": "code",
        "colab": {}
      },
      "source": [
        "mv a.txt ./doit/"
      ],
      "execution_count": 0,
      "outputs": []
    },
    {
      "cell_type": "code",
      "metadata": {
        "id": "1dc2zpPl0Vz_",
        "colab_type": "code",
        "colab": {}
      },
      "source": [
        "mv tabto4.py ./doit/"
      ],
      "execution_count": 0,
      "outputs": []
    },
    {
      "cell_type": "code",
      "metadata": {
        "id": "iQnDViez0V_q",
        "colab_type": "code",
        "colab": {}
      },
      "source": [
        "cd ./doit/"
      ],
      "execution_count": 0,
      "outputs": []
    },
    {
      "cell_type": "code",
      "metadata": {
        "id": "maiKeVuP0WVa",
        "colab_type": "code",
        "colab": {}
      },
      "source": [
        "!python tabto4.py a.txt b.txt"
      ],
      "execution_count": 0,
      "outputs": []
    },
    {
      "cell_type": "markdown",
      "metadata": {
        "id": "G1deu6-xXK2j",
        "colab_type": "text"
      },
      "source": [
        "### **06-6 하위 디렉터리 검색하기**\n"
      ]
    },
    {
      "cell_type": "code",
      "metadata": {
        "id": "S7aJC2H8fQ-2",
        "colab_type": "code",
        "colab": {}
      },
      "source": [
        "'''\n",
        "import os\n",
        "\n",
        "def search(dirname):\n",
        "    try:\n",
        "        filenames = os.listdir(dirname)\n",
        "        for filename in filenames:\n",
        "            full_filename = os.path.join(dirname, filename)\n",
        "            if os.path.isdir(full_filename):\n",
        "                search(full_filename)\n",
        "            else:\n",
        "                ext = os.path.splitext(full_filename)[-1]\n",
        "                if ext == '.py': \n",
        "                    print(full_filename)\n",
        "    except PermissionError:\n",
        "        pass\n",
        "\n",
        "search(\"./\")\n",
        "'''"
      ],
      "execution_count": 0,
      "outputs": []
    },
    {
      "cell_type": "code",
      "metadata": {
        "id": "PQYnNaQv9cNf",
        "colab_type": "code",
        "outputId": "52f768eb-a3e0-49a7-a1e8-484dfa9c5afa",
        "colab": {
          "base_uri": "https://localhost:8080/",
          "height": 35
        }
      },
      "source": [
        "cd .. "
      ],
      "execution_count": 0,
      "outputs": [
        {
          "output_type": "stream",
          "text": [
            "/doit\n"
          ],
          "name": "stdout"
        }
      ]
    },
    {
      "cell_type": "code",
      "metadata": {
        "id": "SRHMIt7ZCGEC",
        "colab_type": "code",
        "colab": {}
      },
      "source": [
        "!python sub_dir_search.py"
      ],
      "execution_count": 0,
      "outputs": []
    },
    {
      "cell_type": "markdown",
      "metadata": {
        "id": "t8zEiPrz8rqa",
        "colab_type": "text"
      },
      "source": [
        "\n",
        "\n",
        "---\n",
        "\n"
      ]
    },
    {
      "cell_type": "markdown",
      "metadata": {
        "id": "jfa9QT316Tl6",
        "colab_type": "text"
      },
      "source": [
        "#### 추가 코드 [참고]"
      ]
    },
    {
      "cell_type": "code",
      "metadata": {
        "id": "2js1evjX-tN9",
        "colab_type": "code",
        "outputId": "decb41f1-3bcc-4cd0-d3fa-37f05da973f4",
        "colab": {
          "base_uri": "https://localhost:8080/",
          "height": 71
        }
      },
      "source": [
        "import os\n",
        "\n",
        "def search(dirname):\n",
        "    try:\n",
        "        filenames = os.listdir(dirname)\n",
        "        for filename in filenames:\n",
        "            full_filename = os.path.join(dirname, filename)\n",
        "            if os.path.isdir(full_filename):\n",
        "                search(full_filename)\n",
        "            else:\n",
        "                ext = os.path.splitext(full_filename)[-1]\n",
        "                if ext == '.txt': \n",
        "                    print(full_filename)\n",
        "    except PermissionError:\n",
        "        pass\n",
        "\n",
        "search(\"/content\")"
      ],
      "execution_count": 0,
      "outputs": [
        {
          "output_type": "stream",
          "text": [
            "/content/b.txt\n",
            "/content/a.txt\n",
            "/content/memo.txt\n"
          ],
          "name": "stdout"
        }
      ]
    },
    {
      "cell_type": "code",
      "metadata": {
        "id": "M8jRixDw5NqM",
        "colab_type": "code",
        "outputId": "8d6a09be-1f0e-4954-a613-406cc85e855a",
        "colab": {
          "base_uri": "https://localhost:8080/",
          "height": 71
        }
      },
      "source": [
        "import os\n",
        "\n",
        "for (path, dir, files) in os.walk(\"/content\"):\n",
        "    for filename in files:\n",
        "        ext = os.path.splitext(filename)[-1]\n",
        "        if ext == '.py':\n",
        "            print(\"%s/%s\" % (path, filename))"
      ],
      "execution_count": 0,
      "outputs": [
        {
          "output_type": "stream",
          "text": [
            "/content/memo.py\n",
            "/content/tabto4.py\n",
            "/content/search.py\n"
          ],
          "name": "stdout"
        }
      ]
    },
    {
      "cell_type": "code",
      "metadata": {
        "id": "RIFGSTKs-xfo",
        "colab_type": "code",
        "outputId": "09cc0b6e-ed80-426b-ffc1-953d15c45657",
        "colab": {
          "base_uri": "https://localhost:8080/",
          "height": 71
        }
      },
      "source": [
        "import os\n",
        "\n",
        "for (path, dir, files) in os.walk(\"/content\"):\n",
        "    for filename in files:\n",
        "        ext = os.path.splitext(filename)[-1]\n",
        "        if ext == '.txt':\n",
        "            print(\"%s/%s\" % (path, filename))"
      ],
      "execution_count": 0,
      "outputs": [
        {
          "output_type": "stream",
          "text": [
            "/content/b.txt\n",
            "/content/a.txt\n",
            "/content/memo.txt\n"
          ],
          "name": "stdout"
        }
      ]
    },
    {
      "cell_type": "markdown",
      "metadata": {
        "id": "L8c8LhHX-11B",
        "colab_type": "text"
      },
      "source": [
        "**================= 통합 =====================**"
      ]
    },
    {
      "cell_type": "code",
      "metadata": {
        "id": "4O1IGkn7-57K",
        "colab_type": "code",
        "outputId": "aab12276-b981-4d64-e22e-161528e9fbdb",
        "colab": {
          "base_uri": "https://localhost:8080/",
          "height": 126
        }
      },
      "source": [
        "import os\n",
        "\n",
        "def search(dirname):\n",
        "    try:\n",
        "        filenames = os.listdir(dirname)\n",
        "        for filename in filenames:\n",
        "            full_filename = os.path.join(dirname, filename)\n",
        "            if os.path.isdir(full_filename):\n",
        "                search(full_filename)\n",
        "            else:\n",
        "                ext = os.path.splitext(full_filename)[-1]\n",
        "                if ext == '.py': \n",
        "                    print(full_filename)\n",
        "                if ext == '.txt':\n",
        "                    print(full_filename)\n",
        "    except PermissionError:\n",
        "        pass\n",
        "\n",
        "search(\"/content\")"
      ],
      "execution_count": 0,
      "outputs": [
        {
          "output_type": "stream",
          "text": [
            "/content/memo.py\n",
            "/content/b.txt\n",
            "/content/tabto4.py\n",
            "/content/a.txt\n",
            "/content/memo.txt\n",
            "/content/search.py\n"
          ],
          "name": "stdout"
        }
      ]
    },
    {
      "cell_type": "code",
      "metadata": {
        "id": "gHXeKnLU-_-m",
        "colab_type": "code",
        "outputId": "f853e9a2-2e67-4387-d74b-a1152c11c202",
        "colab": {
          "base_uri": "https://localhost:8080/",
          "height": 126
        }
      },
      "source": [
        "import os\n",
        "\n",
        "for (path, dir, files) in os.walk(\"/content\"):\n",
        "    for filename in files:\n",
        "        ext = os.path.splitext(filename)[-1]\n",
        "        if ext == '.py':\n",
        "            print(\"%s/%s\" % (path, filename))\n",
        "        if ext == '.txt':\n",
        "            print(\"%s/%s\" % (path, filename))"
      ],
      "execution_count": 0,
      "outputs": [
        {
          "output_type": "stream",
          "text": [
            "/content/memo.py\n",
            "/content/b.txt\n",
            "/content/tabto4.py\n",
            "/content/a.txt\n",
            "/content/memo.txt\n",
            "/content/search.py\n"
          ],
          "name": "stdout"
        }
      ]
    },
    {
      "cell_type": "code",
      "metadata": {
        "id": "s6-pJCqP_iZ0",
        "colab_type": "code",
        "colab": {}
      },
      "source": [
        ""
      ],
      "execution_count": 0,
      "outputs": []
    }
  ]
}